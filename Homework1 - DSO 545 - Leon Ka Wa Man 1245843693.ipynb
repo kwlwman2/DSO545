{
 "cells": [
  {
   "cell_type": "markdown",
   "metadata": {},
   "source": [
    "# Homework 1 \n"
   ]
  },
  {
   "cell_type": "markdown",
   "metadata": {},
   "source": [
    "## Q1 . (1 point) Create a list (call it x) of all integers between 1 and 100 (inclusive). Use the function range() to create the list"
   ]
  },
  {
   "cell_type": "code",
   "execution_count": 13,
   "metadata": {},
   "outputs": [
    {
     "name": "stdout",
     "output_type": "stream",
     "text": [
      "[1, 2, 3, 4, 5, 6, 7, 8, 9, 10, 11, 12, 13, 14, 15, 16, 17, 18, 19, 20, 21, 22, 23, 24, 25, 26, 27, 28, 29, 30, 31, 32, 33, 34, 35, 36, 37, 38, 39, 40, 41, 42, 43, 44, 45, 46, 47, 48, 49, 50, 51, 52, 53, 54, 55, 56, 57, 58, 59, 60, 61, 62, 63, 64, 65, 66, 67, 68, 69, 70, 71, 72, 73, 74, 75, 76, 77, 78, 79, 80, 81, 82, 83, 84, 85, 86, 87, 88, 89, 90, 91, 92, 93, 94, 95, 96, 97, 98, 99, 100]\n"
     ]
    }
   ],
   "source": [
    "x = list(range(1,101))\n",
    "\n",
    "print(x)\n"
   ]
  },
  {
   "cell_type": "markdown",
   "metadata": {},
   "source": [
    "## Q2. (1 point) Select the first 5 elements in the list x."
   ]
  },
  {
   "cell_type": "code",
   "execution_count": 15,
   "metadata": {},
   "outputs": [
    {
     "name": "stdout",
     "output_type": "stream",
     "text": [
      "[1, 2, 3, 4, 5]\n"
     ]
    }
   ],
   "source": [
    "print(x[:5])"
   ]
  },
  {
   "cell_type": "markdown",
   "metadata": {},
   "source": [
    "## Q3. (1 point) What is the length of the list x?"
   ]
  },
  {
   "cell_type": "code",
   "execution_count": 17,
   "metadata": {},
   "outputs": [
    {
     "name": "stdout",
     "output_type": "stream",
     "text": [
      "100\n"
     ]
    }
   ],
   "source": [
    "print(len(x))"
   ]
  },
  {
   "cell_type": "markdown",
   "metadata": {},
   "source": [
    "## Q4. (1 point) Select the last 10 elements in x."
   ]
  },
  {
   "cell_type": "code",
   "execution_count": 19,
   "metadata": {},
   "outputs": [
    {
     "name": "stdout",
     "output_type": "stream",
     "text": [
      "[91, 92, 93, 94, 95, 96, 97, 98, 99, 100]\n"
     ]
    }
   ],
   "source": [
    "print(x[-10:])"
   ]
  },
  {
   "cell_type": "markdown",
   "metadata": {},
   "source": [
    "## Q5. (1 point) Create a list that has the first 5 and last 10 elements in x"
   ]
  },
  {
   "cell_type": "code",
   "execution_count": 29,
   "metadata": {},
   "outputs": [
    {
     "name": "stdout",
     "output_type": "stream",
     "text": [
      "[1, 2, 3, 4, 5, 91, 92, 93, 94, 95, 96, 97, 98, 99, 100]\n"
     ]
    }
   ],
   "source": [
    "a = x[:5]\n",
    "\n",
    "b = x[-10:]\n",
    "\n",
    "c = a + b \n",
    "# a.append(b)\n",
    "# a.extend(b)\n",
    "\n",
    "print(c)"
   ]
  },
  {
   "cell_type": "markdown",
   "metadata": {},
   "source": [
    "## Q6 (1 point) Use a for loop to show only the numbers in the list x that are divisible by 20."
   ]
  },
  {
   "cell_type": "code",
   "execution_count": 33,
   "metadata": {},
   "outputs": [
    {
     "name": "stdout",
     "output_type": "stream",
     "text": [
      "20\n",
      "40\n",
      "60\n",
      "80\n",
      "100\n"
     ]
    }
   ],
   "source": [
    "for i in x:\n",
    "    if i%20 == 0:\n",
    "        print(i)\n",
    "    else:\n",
    "        next"
   ]
  },
  {
   "cell_type": "markdown",
   "metadata": {},
   "source": [
    "## Q7 (1 point) Create the following list, and find the maximum using only the sort() method and indexing techniques"
   ]
  },
  {
   "cell_type": "code",
   "execution_count": 60,
   "metadata": {},
   "outputs": [
    {
     "name": "stdout",
     "output_type": "stream",
     "text": [
      "1000\n"
     ]
    }
   ],
   "source": [
    "# create a list\n",
    "list = [90, -5, 870, 20, 400, 1000, 95]\n",
    "\n",
    "# sort the list in ascending order\n",
    "list.sort() \n",
    "\n",
    "# slicing and print\n",
    "max = list[-1]\n",
    "\n",
    "print(max)"
   ]
  },
  {
   "cell_type": "markdown",
   "metadata": {},
   "source": [
    "## 8. (1 point) Create the following list, and find the maximum using a for loop. (You are not expected to use the python function max())."
   ]
  },
  {
   "cell_type": "code",
   "execution_count": 59,
   "metadata": {},
   "outputs": [
    {
     "name": "stdout",
     "output_type": "stream",
     "text": [
      "1000 is the maximum in the list\n"
     ]
    }
   ],
   "source": [
    "# create a list\n",
    "list = [90, -5, 870, 20, 400, 1000, 95]\n",
    "       \n",
    "for i in list :\n",
    "    list2 = list.copy()\n",
    "    \n",
    "    list2.sort()\n",
    "    \n",
    "    if i == list2[-1]:\n",
    "        print(i,'is the maximum in the list')\n",
    "    \n"
   ]
  },
  {
   "cell_type": "markdown",
   "metadata": {},
   "source": [
    "## 9. Suppose that have a simple linear regression model that relates the GPA to salaries. The model is Salary = 6430 ∗ GPA + 1980\n",
    "\n",
    "• (1 point) If someone’s GPA is 3.9, what is their expected salary? Write Python code to compute the\n",
    "salary.\n",
    "\n",
    "• (1 point) Use list comprehensions to find the salaries of all GPAs in the following list: x = [2.8, 3.4, 3.2, 3.8]"
   ]
  },
  {
   "cell_type": "code",
   "execution_count": 61,
   "metadata": {},
   "outputs": [
    {
     "name": "stdout",
     "output_type": "stream",
     "text": [
      "27057.0\n",
      "[19984.0, 23842.0, 22556.0, 26414.0]\n"
     ]
    }
   ],
   "source": [
    "#1 define a function for calculations\n",
    "def salary(GPA):\n",
    "    return 6430*GPA + 1980\n",
    "print(salary(3.9))\n",
    "\n",
    "#2 list comprehension\n",
    "\n",
    "# create a list\n",
    "x = [2.8, 3.4, 3.2, 3.8]\n",
    "\n",
    "# use list comprehension to compute salary based upon the list x\n",
    "y = [salary(GPA) for GPA in x] \n",
    "print(y)"
   ]
  },
  {
   "cell_type": "code",
   "execution_count": null,
   "metadata": {},
   "outputs": [],
   "source": []
  }
 ],
 "metadata": {
  "kernelspec": {
   "display_name": "Python 3",
   "language": "python",
   "name": "python3"
  },
  "language_info": {
   "codemirror_mode": {
    "name": "ipython",
    "version": 3
   },
   "file_extension": ".py",
   "mimetype": "text/x-python",
   "name": "python",
   "nbconvert_exporter": "python",
   "pygments_lexer": "ipython3",
   "version": "3.7.3"
  }
 },
 "nbformat": 4,
 "nbformat_minor": 2
}
